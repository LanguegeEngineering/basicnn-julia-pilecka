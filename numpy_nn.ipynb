{
  "nbformat": 4,
  "nbformat_minor": 0,
  "metadata": {
    "colab": {
      "name": "numpy_nn.ipynb",
      "provenance": [],
      "collapsed_sections": []
    },
    "kernelspec": {
      "name": "python3",
      "display_name": "Python 3"
    }
  },
  "cells": [
    {
      "cell_type": "markdown",
      "metadata": {
        "id": "Z4tcQ2V1fhT8",
        "colab_type": "text"
      },
      "source": [
        "### Zadania\n",
        "\n",
        "1. Dodać iteracje do treningu\n",
        "2. Dodać rysunek zmian strat w kolejnych iteracjach"
      ]
    },
    {
      "cell_type": "code",
      "metadata": {
        "id": "IqgyOy4Qso7v",
        "colab_type": "code",
        "outputId": "32876611-3791-4692-beed-f42be3a94974",
        "colab": {
          "base_uri": "https://localhost:8080/",
          "height": 34
        }
      },
      "source": [
        "import numpy as np\n",
        "import matplotlib.pyplot as plt\n",
        "\n",
        "# N is batch size; D_in is input dimension; liczba przykładów\n",
        "# H is hidden dimension; D_out is output dimension.\n",
        "N, D_in, H, D_out = 16, 4, 0, 1\n",
        "#dimensional input - 4 dane mamy u nas; to cechy z danych które wyciągamy tak właściwie #dimensional output - 1 bo chcemy jedno wyjście\n",
        "# Create random input and output data\n",
        "\n",
        "x_numpy = np.array(    [[0., 0., 0., 1.],\n",
        "                        [1., 0., 0., 1.],\n",
        "                        [0., 1., 0., 1.],\n",
        "                        [0., 0., 1., 1.],\n",
        "                        [1., 1., 0., 1.],\n",
        "                        [1., 0., 1., 1.],\n",
        "                        [0., 1., 1., 1.],\n",
        "                        [1., 1., 1., 1.],\n",
        "                        [0., 0., 0., 0.],\n",
        "                        [1., 0., 0., 0.],\n",
        "                        [0., 1., 0., 0.],\n",
        "                        [0., 0., 1., 0.],\n",
        "                        [1., 1., 0., 0.],\n",
        "                        [1., 0., 1., 0.],\n",
        "                        [0., 1., 1., 0.],\n",
        "                        [1., 1., 1., 0.]]) #x - dane wejściowe #tu mamy ustawione tak, że ostatnia wartość wyznacza nam labelke, czyli y, reszta to cechy\n",
        "\n",
        "print(x_numpy.shape) #pokazanie wymiarów, 16 wierszy, 4 kolumny"
      ],
      "execution_count": 1,
      "outputs": [
        {
          "output_type": "stream",
          "text": [
            "(16, 4)\n"
          ],
          "name": "stdout"
        }
      ]
    },
    {
      "cell_type": "code",
      "metadata": {
        "id": "HyAwvfvmSV4l",
        "colab_type": "code",
        "outputId": "1e1228bf-e0a1-4830-9af7-6d79ad822935",
        "colab": {
          "base_uri": "https://localhost:8080/",
          "height": 34
        }
      },
      "source": [
        "y_numpy = np.array(     [[1.],\n",
        "                         [1.],\n",
        "                         [1.],\n",
        "                         [1.],\n",
        "                         [1.],\n",
        "                         [1.],\n",
        "                         [1.],\n",
        "                         [1.],\n",
        "                         [0.],\n",
        "                         [0.],\n",
        "                         [0.],\n",
        "                         [0.],\n",
        "                         [0.],\n",
        "                         [0.],\n",
        "                         [0.],\n",
        "                         [0.]])  #y - labelki/odpowiedzi\n",
        "\n",
        "\n",
        "print(y_numpy.shape)"
      ],
      "execution_count": 2,
      "outputs": [
        {
          "output_type": "stream",
          "text": [
            "(16, 1)\n"
          ],
          "name": "stdout"
        }
      ]
    },
    {
      "cell_type": "code",
      "metadata": {
        "id": "7YJNoruLSXgk",
        "colab_type": "code",
        "outputId": "858a9718-c115-46c5-de20-47fe67d15448",
        "colab": {
          "base_uri": "https://localhost:8080/",
          "height": 101
        }
      },
      "source": [
        "# Randomly initialize weights inicjalizujemy wagi  --------------- #pomnożenie 2 macierzy przez siebie tak żeby mieć jeden wynik - macierz 1x1\n",
        "w = np.random.randn(D_in, D_out)\n",
        "\n",
        "print(w)\n",
        "print(w.shape)"
      ],
      "execution_count": 3,
      "outputs": [
        {
          "output_type": "stream",
          "text": [
            "[[-0.17073985]\n",
            " [ 0.15523231]\n",
            " [-0.21873933]\n",
            " [ 1.06399147]]\n",
            "(4, 1)\n"
          ],
          "name": "stdout"
        }
      ]
    },
    {
      "cell_type": "code",
      "metadata": {
        "id": "HPFz65FiPKmn",
        "colab_type": "code",
        "colab": {}
      },
      "source": [
        "learning_rate = 1e-2\n",
        "loss_list = []"
      ],
      "execution_count": 0,
      "outputs": []
    },
    {
      "cell_type": "code",
      "metadata": {
        "id": "NNm6egQBaLdy",
        "colab_type": "code",
        "outputId": "db82d524-37aa-4332-b5a8-a1cb18d43938",
        "colab": {
          "base_uri": "https://localhost:8080/",
          "height": 286
        }
      },
      "source": [
        "# Forward pass: compute predicted y\n",
        "y_pred = x_numpy.dot(w) #pierwsza predykacja; po kolejnych predykcjach (poprawki) powinniśmy dostać nasze jedynki i zera jak w y\n",
        "print(y_pred)\n"
      ],
      "execution_count": 16,
      "outputs": [
        {
          "output_type": "stream",
          "text": [
            "[[ 1.00000001e+00]\n",
            " [ 9.99999999e-01]\n",
            " [ 1.00000002e+00]\n",
            " [ 9.99999996e-01]\n",
            " [ 1.00000001e+00]\n",
            " [ 9.99999990e-01]\n",
            " [ 1.00000001e+00]\n",
            " [ 1.00000000e+00]\n",
            " [ 0.00000000e+00]\n",
            " [-6.64012538e-09]\n",
            " [ 1.02467800e-08]\n",
            " [-9.12672622e-09]\n",
            " [ 3.60665458e-09]\n",
            " [-1.57668516e-08]\n",
            " [ 1.12005373e-09]\n",
            " [-5.52007165e-09]]\n"
          ],
          "name": "stdout"
        }
      ]
    },
    {
      "cell_type": "code",
      "metadata": {
        "id": "pUWfDOFtSgIm",
        "colab_type": "code",
        "outputId": "66d7d34a-5368-41c0-af6e-526c397c7f1a",
        "colab": {
          "base_uri": "https://localhost:8080/",
          "height": 84
        }
      },
      "source": [
        "# Compute and print loss\n",
        "loss = np.square(y_pred - y_numpy).sum() #liczymy strate względem tego co powinno byc w y - ile nasza predykacja roznila sie od wyniku ktory powinien byc; suma tego - wartosc ogolna straty\n",
        "loss_list.append(loss)\n",
        "# Backprop to compute gradients of w1 and w2 with respect to loss\n",
        "grad_y_pred = 2.0 * (y_pred - y_numpy) #liczymy pochodną od funkcji straty. przesuwamy wartości wag w stronę minimum\n",
        "grad_w = x_numpy.T.dot(grad_y_pred) #gradient dla wag\n",
        "\n",
        "# Update weights\n",
        "w = w - learning_rate * grad_w  #zmieniamy wartość wag, żeby dawały mniejszą stratę\n",
        "print(w)"
      ],
      "execution_count": 17,
      "outputs": [
        {
          "output_type": "stream",
          "text": [
            "[[-6.10891533e-09]\n",
            " [ 9.42703757e-09]\n",
            " [-8.39658811e-09]\n",
            " [ 1.00000001e+00]]\n"
          ],
          "name": "stdout"
        }
      ]
    },
    {
      "cell_type": "code",
      "metadata": {
        "id": "KBRbjAooSzs3",
        "colab_type": "code",
        "outputId": "34aa8ba1-eb80-46b7-b969-bf07b8599a4d",
        "colab": {
          "base_uri": "https://localhost:8080/",
          "height": 353
        }
      },
      "source": [
        "for i in range (200):\n",
        "  y_pred = x_numpy.dot(w)\n",
        "  loss = np.square(y_pred - y_numpy).sum() #liczymy strate względem tego co powinno byc w y - ile nasza predykacja roznila sie od wyniku ktory powinien byc; suma tego - wartosc ogolna straty\n",
        "  loss_list.append(loss)\n",
        "# Backprop to compute gradients of w1 and w2 with respect to loss\n",
        "  grad_y_pred = 2.0 * (y_pred - y_numpy) #liczymy pochodną od funkcji straty. przesuwamy wartości wag w stronę minimum\n",
        "  grad_w = x_numpy.T.dot(grad_y_pred) #gradient dla wag\n",
        "\n",
        "# Update weights\n",
        "  w = w - learning_rate * grad_w  #zmieniamy wartość wag, żeby dawały mniejszą stratę\n",
        "\n",
        "print(w)\n",
        "print(y_pred)        #9.99999999e-01 = ok 1"
      ],
      "execution_count": 18,
      "outputs": [
        {
          "output_type": "stream",
          "text": [
            "[[-4.81465332e-16]\n",
            " [ 4.17899680e-16]\n",
            " [-6.11998982e-16]\n",
            " [ 1.00000000e+00]]\n",
            "[[ 1.00000000e+00]\n",
            " [ 1.00000000e+00]\n",
            " [ 1.00000000e+00]\n",
            " [ 1.00000000e+00]\n",
            " [ 1.00000000e+00]\n",
            " [ 1.00000000e+00]\n",
            " [ 1.00000000e+00]\n",
            " [ 1.00000000e+00]\n",
            " [ 0.00000000e+00]\n",
            " [-5.01994186e-16]\n",
            " [ 4.71851802e-16]\n",
            " [-6.47218597e-16]\n",
            " [-3.01423836e-17]\n",
            " [-1.14921278e-15]\n",
            " [-1.75366795e-16]\n",
            " [-6.77360981e-16]]\n"
          ],
          "name": "stdout"
        }
      ]
    },
    {
      "cell_type": "code",
      "metadata": {
        "id": "heXJqSquaVh4",
        "colab_type": "code",
        "outputId": "167fdf7f-92f9-4fd0-d6dc-7c85cdbc66fa",
        "colab": {
          "base_uri": "https://localhost:8080/",
          "height": 276
        }
      },
      "source": [
        "plt.plot(loss_list, label = 'loss')\n",
        "plt.legend()\n",
        "plt.show()"
      ],
      "execution_count": 19,
      "outputs": [
        {
          "output_type": "display_data",
          "data": {
            "image/png": "[encoded data removed]",
            "text/plain": [
              "<Figure size 432x288 with 1 Axes>"
            ]
          },
          "metadata": {
            "tags": []
          }
        }
      ]
    },
    {
      "cell_type": "code",
      "metadata": {
        "id": "j-WQQA9COshP",
        "colab_type": "code",
        "colab": {}
      },
      "source": [
        ""
      ],
      "execution_count": 0,
      "outputs": []
    }
  ]
}